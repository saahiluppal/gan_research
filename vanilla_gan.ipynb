{
  "nbformat": 4,
  "nbformat_minor": 0,
  "metadata": {
    "colab": {
      "name": "daily.ipynb",
      "provenance": [],
      "collapsed_sections": []
    },
    "kernelspec": {
      "name": "python3",
      "display_name": "Python 3"
    },
    "accelerator": "GPU"
  },
  "cells": [
    {
      "cell_type": "code",
      "metadata": {
        "id": "cI437wGMetzI",
        "colab_type": "code",
        "colab": {}
      },
      "source": [
        "import tensorflow as tf\n",
        "import numpy as np\n",
        "import os\n",
        "import matplotlib.pyplot as plt"
      ],
      "execution_count": 0,
      "outputs": []
    },
    {
      "cell_type": "code",
      "metadata": {
        "id": "2DIn3VhKe3hp",
        "colab_type": "code",
        "colab": {}
      },
      "source": [
        "img_rows, img_cols, img_ch = 28, 28, 1\n",
        "input_shape = (img_rows, img_cols, img_ch)\n",
        "batch_size = 256\n",
        "num_epochs = 50"
      ],
      "execution_count": 0,
      "outputs": []
    },
    {
      "cell_type": "code",
      "metadata": {
        "id": "GPLbrjY9fJpJ",
        "colab_type": "code",
        "outputId": "b54d87a5-1930-454a-d770-4d189f66b1cc",
        "colab": {
          "base_uri": "https://localhost:8080/",
          "height": 52
        }
      },
      "source": [
        "(X_train, y_train), (X_test, y_test) = tf.keras.datasets.mnist.load_data()\n",
        "X_train, X_test = X_train / 127.5 - 1., X_test / 127.5 -1"
      ],
      "execution_count": 3,
      "outputs": [
        {
          "output_type": "stream",
          "text": [
            "Downloading data from https://storage.googleapis.com/tensorflow/tf-keras-datasets/mnist.npz\n",
            "11493376/11490434 [==============================] - 0s 0us/step\n"
          ],
          "name": "stdout"
        }
      ]
    },
    {
      "cell_type": "code",
      "metadata": {
        "id": "osEcJp4bfboO",
        "colab_type": "code",
        "colab": {}
      },
      "source": [
        "X_train = X_train.reshape(-1, *input_shape).astype(np.float32)\n",
        "X_test = X_test.reshape(-1, *input_shape).astype(np.float32)"
      ],
      "execution_count": 0,
      "outputs": []
    },
    {
      "cell_type": "code",
      "metadata": {
        "id": "V7BNdnKnffG4",
        "colab_type": "code",
        "colab": {}
      },
      "source": [
        "BUFFER_SIZE = 200_000\n",
        "BATCH_SIZE = 128"
      ],
      "execution_count": 0,
      "outputs": []
    },
    {
      "cell_type": "code",
      "metadata": {
        "id": "W_kXdGpvgbHL",
        "colab_type": "code",
        "colab": {}
      },
      "source": [
        "train_dataset = tf.data.Dataset.from_tensor_slices(X_train).shuffle(BUFFER_SIZE).batch(BATCH_SIZE)"
      ],
      "execution_count": 0,
      "outputs": []
    },
    {
      "cell_type": "code",
      "metadata": {
        "id": "FjRI7JXphnBL",
        "colab_type": "code",
        "colab": {}
      },
      "source": [
        "from tensorflow.keras import layers"
      ],
      "execution_count": 0,
      "outputs": []
    },
    {
      "cell_type": "code",
      "metadata": {
        "id": "Vdjqe99qi4w0",
        "colab_type": "code",
        "colab": {}
      },
      "source": [
        "def generator_model():\n",
        "  model = tf.keras.Sequential([\n",
        "          tf.keras.layers.Dense(4 * 4 * 512, input_shape=(100, )),\n",
        "          tf.keras.layers.BatchNormalization(),\n",
        "          tf.keras.layers.LeakyReLU(),\n",
        "\n",
        "          tf.keras.layers.Reshape(target_shape=(4, 4, 512)),\n",
        "\n",
        "          tf.keras.layers.Conv2DTranspose(256, (4, 4)),\n",
        "          tf.keras.layers.BatchNormalization(),\n",
        "          tf.keras.layers.LeakyReLU(),\n",
        "          \n",
        "          tf.keras.layers.Conv2DTranspose(128, (3, 3), padding='same'),\n",
        "          tf.keras.layers.BatchNormalization(),\n",
        "          tf.keras.layers.LeakyReLU(),\n",
        "\n",
        "          tf.keras.layers.Conv2DTranspose(64, (3, 3), strides = 2, padding='same'),\n",
        "          tf.keras.layers.BatchNormalization(),\n",
        "          tf.keras.layers.LeakyReLU(),\n",
        "\n",
        "          tf.keras.layers.Conv2DTranspose(1, (3, 3), strides=2, padding='same', activation='tanh')\n",
        "  ])\n",
        "  return model"
      ],
      "execution_count": 0,
      "outputs": []
    },
    {
      "cell_type": "code",
      "metadata": {
        "id": "edCdCm7HMFkZ",
        "colab_type": "code",
        "colab": {
          "base_uri": "https://localhost:8080/",
          "height": 642
        },
        "outputId": "b26a5a2e-d6e7-4e3b-f53f-8c3d8343508a"
      },
      "source": [
        "generator_model().summary()"
      ],
      "execution_count": 64,
      "outputs": [
        {
          "output_type": "stream",
          "text": [
            "Model: \"sequential_26\"\n",
            "_________________________________________________________________\n",
            "Layer (type)                 Output Shape              Param #   \n",
            "=================================================================\n",
            "dense_26 (Dense)             (None, 8192)              827392    \n",
            "_________________________________________________________________\n",
            "batch_normalization_66 (Batc (None, 8192)              32768     \n",
            "_________________________________________________________________\n",
            "leaky_re_lu_66 (LeakyReLU)   (None, 8192)              0         \n",
            "_________________________________________________________________\n",
            "reshape_26 (Reshape)         (None, 4, 4, 512)         0         \n",
            "_________________________________________________________________\n",
            "conv2d_transpose_51 (Conv2DT (None, 7, 7, 256)         2097408   \n",
            "_________________________________________________________________\n",
            "batch_normalization_67 (Batc (None, 7, 7, 256)         1024      \n",
            "_________________________________________________________________\n",
            "leaky_re_lu_67 (LeakyReLU)   (None, 7, 7, 256)         0         \n",
            "_________________________________________________________________\n",
            "conv2d_transpose_52 (Conv2DT (None, 7, 7, 128)         295040    \n",
            "_________________________________________________________________\n",
            "batch_normalization_68 (Batc (None, 7, 7, 128)         512       \n",
            "_________________________________________________________________\n",
            "leaky_re_lu_68 (LeakyReLU)   (None, 7, 7, 128)         0         \n",
            "_________________________________________________________________\n",
            "conv2d_transpose_53 (Conv2DT (None, 14, 14, 64)        73792     \n",
            "_________________________________________________________________\n",
            "batch_normalization_69 (Batc (None, 14, 14, 64)        256       \n",
            "_________________________________________________________________\n",
            "leaky_re_lu_69 (LeakyReLU)   (None, 14, 14, 64)        0         \n",
            "_________________________________________________________________\n",
            "conv2d_transpose_54 (Conv2DT (None, 28, 28, 1)         577       \n",
            "=================================================================\n",
            "Total params: 3,328,769\n",
            "Trainable params: 3,311,489\n",
            "Non-trainable params: 17,280\n",
            "_________________________________________________________________\n"
          ],
          "name": "stdout"
        }
      ]
    },
    {
      "cell_type": "code",
      "metadata": {
        "id": "NW3b164NjR9M",
        "colab_type": "code",
        "colab": {}
      },
      "source": [
        "def discriminator_model():\n",
        "  model = tf.keras.Sequential([\n",
        "          tf.keras.layers.Conv2D(64, kernel_size=(5,5), input_shape=(28,28,1), strides=2, padding='same'),\n",
        "          tf.keras.layers.BatchNormalization(),\n",
        "          tf.keras.layers.LeakyReLU(),\n",
        "          tf.keras.layers.Dropout(0.3),\n",
        "\n",
        "          tf.keras.layers.Conv2D(128, kernel_size=(3,3), strides=2, padding='same'),\n",
        "          tf.keras.layers.LeakyReLU(),\n",
        "          tf.keras.layers.Dropout(0.3),\n",
        "\n",
        "          tf.keras.layers.Conv2D(256, kernel_size=(3,3), strides=2, padding='same'),\n",
        "          tf.keras.layers.LeakyReLU(),\n",
        "\n",
        "          tf.keras.layers.Conv2D(512, kernel_size=(3, 3), strides=2, padding='same'),\n",
        "          tf.keras.layers.LeakyReLU(),\n",
        "          tf.keras.layers.MaxPooling2D(2),\n",
        "\n",
        "          tf.keras.layers.Flatten(),\n",
        "          tf.keras.layers.Dense(1),\n",
        "  ])\n",
        "  return model"
      ],
      "execution_count": 0,
      "outputs": []
    },
    {
      "cell_type": "code",
      "metadata": {
        "id": "rRlsC9CDOLS7",
        "colab_type": "code",
        "colab": {
          "base_uri": "https://localhost:8080/",
          "height": 642
        },
        "outputId": "00462f59-4b19-4824-b95b-2c279e4443fe"
      },
      "source": [
        "discriminator_model().summary()"
      ],
      "execution_count": 71,
      "outputs": [
        {
          "output_type": "stream",
          "text": [
            "Model: \"sequential_30\"\n",
            "_________________________________________________________________\n",
            "Layer (type)                 Output Shape              Param #   \n",
            "=================================================================\n",
            "conv2d_10 (Conv2D)           (None, 14, 14, 64)        1664      \n",
            "_________________________________________________________________\n",
            "batch_normalization_73 (Batc (None, 14, 14, 64)        256       \n",
            "_________________________________________________________________\n",
            "leaky_re_lu_79 (LeakyReLU)   (None, 14, 14, 64)        0         \n",
            "_________________________________________________________________\n",
            "dropout_6 (Dropout)          (None, 14, 14, 64)        0         \n",
            "_________________________________________________________________\n",
            "conv2d_11 (Conv2D)           (None, 7, 7, 128)         73856     \n",
            "_________________________________________________________________\n",
            "leaky_re_lu_80 (LeakyReLU)   (None, 7, 7, 128)         0         \n",
            "_________________________________________________________________\n",
            "dropout_7 (Dropout)          (None, 7, 7, 128)         0         \n",
            "_________________________________________________________________\n",
            "conv2d_12 (Conv2D)           (None, 4, 4, 256)         295168    \n",
            "_________________________________________________________________\n",
            "leaky_re_lu_81 (LeakyReLU)   (None, 4, 4, 256)         0         \n",
            "_________________________________________________________________\n",
            "conv2d_13 (Conv2D)           (None, 2, 2, 512)         1180160   \n",
            "_________________________________________________________________\n",
            "leaky_re_lu_82 (LeakyReLU)   (None, 2, 2, 512)         0         \n",
            "_________________________________________________________________\n",
            "max_pooling2d (MaxPooling2D) (None, 1, 1, 512)         0         \n",
            "_________________________________________________________________\n",
            "flatten_3 (Flatten)          (None, 512)               0         \n",
            "_________________________________________________________________\n",
            "dense_30 (Dense)             (None, 1)                 513       \n",
            "=================================================================\n",
            "Total params: 1,551,617\n",
            "Trainable params: 1,551,489\n",
            "Non-trainable params: 128\n",
            "_________________________________________________________________\n"
          ],
          "name": "stdout"
        }
      ]
    },
    {
      "cell_type": "code",
      "metadata": {
        "id": "rQ68ckKzjfiH",
        "colab_type": "code",
        "colab": {}
      },
      "source": [
        "generator = generator_model()\n",
        "discriminator = discriminator_model()"
      ],
      "execution_count": 0,
      "outputs": []
    },
    {
      "cell_type": "code",
      "metadata": {
        "id": "2rm1Hs9Wn7Bh",
        "colab_type": "code",
        "outputId": "c16e54ae-1aa2-4815-f3ae-08a5efc144c0",
        "colab": {
          "base_uri": "https://localhost:8080/",
          "height": 282
        }
      },
      "source": [
        "noise = tf.random.normal([1, 100])\n",
        "generated_image = generator(noise, training=False)\n",
        "plt.imshow(generated_image[0, :, :, 0], cmap='gray')"
      ],
      "execution_count": 73,
      "outputs": [
        {
          "output_type": "execute_result",
          "data": {
            "text/plain": [
              "<matplotlib.image.AxesImage at 0x7f515e3b2a90>"
            ]
          },
          "metadata": {
            "tags": []
          },
          "execution_count": 73
        },
        {
          "output_type": "display_data",
          "data": {
            "image/png": "[encoded data removed]",
            "text/plain": [
              "<Figure size 432x288 with 1 Axes>"
            ]
          },
          "metadata": {
            "tags": []
          }
        }
      ]
    },
    {
      "cell_type": "code",
      "metadata": {
        "id": "956YdloJpq8U",
        "colab_type": "code",
        "outputId": "65db4729-a928-4de8-b4b4-a5c56e432435",
        "colab": {
          "base_uri": "https://localhost:8080/",
          "height": 34
        }
      },
      "source": [
        "decision = discriminator(generated_image)\n",
        "print(decision)"
      ],
      "execution_count": 74,
      "outputs": [
        {
          "output_type": "stream",
          "text": [
            "tf.Tensor([[-0.00017942]], shape=(1, 1), dtype=float32)\n"
          ],
          "name": "stdout"
        }
      ]
    },
    {
      "cell_type": "code",
      "metadata": {
        "id": "l0HSQapLp7sa",
        "colab_type": "code",
        "colab": {}
      },
      "source": [
        "cross_entropy = tf.keras.losses.BinaryCrossentropy(from_logits = True)"
      ],
      "execution_count": 0,
      "outputs": []
    },
    {
      "cell_type": "code",
      "metadata": {
        "id": "u1kR8tSjqglZ",
        "colab_type": "code",
        "colab": {}
      },
      "source": [
        "def discriminator_loss(real_output, fake_output):\n",
        "  real_loss = cross_entropy(tf.ones_like(real_output), real_output)\n",
        "  fake_loss = cross_entropy(tf.zeros_like(fake_output), fake_output)\n",
        "  return real_loss + fake_loss"
      ],
      "execution_count": 0,
      "outputs": []
    },
    {
      "cell_type": "code",
      "metadata": {
        "id": "jsP425req-T-",
        "colab_type": "code",
        "colab": {}
      },
      "source": [
        "def generator_loss(fake_output):\n",
        "  return cross_entropy(tf.ones_like(fake_output), fake_output)"
      ],
      "execution_count": 0,
      "outputs": []
    },
    {
      "cell_type": "code",
      "metadata": {
        "id": "tLblR0uBrHOO",
        "colab_type": "code",
        "colab": {}
      },
      "source": [
        "generator_optimizer = tf.keras.optimizers.Adam(1e-4)\n",
        "discriminator_optimizer = tf.keras.optimizers.Adam(1e-4)"
      ],
      "execution_count": 0,
      "outputs": []
    },
    {
      "cell_type": "code",
      "metadata": {
        "id": "AInY2xnlrJW0",
        "colab_type": "code",
        "colab": {}
      },
      "source": [
        "checkpoint_dir = './training_checkpoints'\n",
        "checkpoint_prefix = os.path.join(checkpoint_dir, \"ckpt\")\n",
        "checkpoint = tf.train.Checkpoint(generator_optimizer=generator_optimizer,\n",
        "                                 discriminator_optimizer=discriminator_optimizer,\n",
        "                                 generator=generator,\n",
        "                                 discriminator=discriminator)"
      ],
      "execution_count": 0,
      "outputs": []
    },
    {
      "cell_type": "code",
      "metadata": {
        "id": "aYdVoXGlrLWJ",
        "colab_type": "code",
        "colab": {}
      },
      "source": [
        "EPOCHS = 50\n",
        "noise_dim = 100\n",
        "num_examples_to_generate = 16\n",
        "\n",
        "# We will reuse this seed overtime (so it's easier)\n",
        "# to visualize progress in the animated GIF)\n",
        "seed = tf.random.normal([num_examples_to_generate, noise_dim])"
      ],
      "execution_count": 0,
      "outputs": []
    },
    {
      "cell_type": "code",
      "metadata": {
        "id": "rMYqhuKGrOS0",
        "colab_type": "code",
        "colab": {}
      },
      "source": [
        "BATCH_SIZE = 128\n",
        "@tf.function\n",
        "def train_step(images):\n",
        "  noise = tf.random.normal([BATCH_SIZE, noise_dim])\n",
        "\n",
        "  with tf.GradientTape() as gen_tape, tf.GradientTape() as disc_tape:\n",
        "    generated_images = generator(noise, training=True)\n",
        "\n",
        "    real_output = discriminator(images, training=True)\n",
        "    fake_output = discriminator(generated_images, training = True)\n",
        "\n",
        "    gen_loss = generator_loss(fake_output)\n",
        "    disc_loss = discriminator_loss(real_output, fake_output)\n",
        "\n",
        "  gen_grads = gen_tape.gradient(gen_loss, generator.trainable_variables)\n",
        "  disc_grads = disc_tape.gradient(disc_loss, discriminator.trainable_variables)\n",
        "\n",
        "  generator_optimizer.apply_gradients(zip(gen_grads, generator.trainable_variables))\n",
        "  discriminator_optimizer.apply_gradients(zip(disc_grads, discriminator.trainable_variables))\n",
        "\n",
        "  return gen_loss, disc_loss"
      ],
      "execution_count": 0,
      "outputs": []
    },
    {
      "cell_type": "code",
      "metadata": {
        "id": "50mBJJdosSwP",
        "colab_type": "code",
        "outputId": "6d55a062-8c2c-44ea-cf84-511643411618",
        "colab": {
          "base_uri": "https://localhost:8080/",
          "height": 1000
        }
      },
      "source": [
        "EPOCHS = 100\n",
        "import time\n",
        "\n",
        "for epoch in range(EPOCHS):\n",
        "  start = time.time()\n",
        "\n",
        "  for image_batch in train_dataset:\n",
        "    gen_loss, disc_loss = train_step(image_batch)\n",
        "  \n",
        "  print(f'Epoch {epoch + 1} completed: Time: {time.time() - start}, loss {gen_loss}--{disc_loss}')"
      ],
      "execution_count": 82,
      "outputs": [
        {
          "output_type": "stream",
          "text": [
            "Epoch 1 completed: Time: 29.920430660247803, loss 4.574414253234863--0.0968540757894516\n",
            "Epoch 2 completed: Time: 26.750033378601074, loss 4.623870849609375--0.14559009671211243\n",
            "Epoch 3 completed: Time: 27.16152024269104, loss 3.802297592163086--0.23389208316802979\n",
            "Epoch 4 completed: Time: 27.805638074874878, loss 4.238858699798584--0.5961215496063232\n",
            "Epoch 5 completed: Time: 28.007330179214478, loss 2.9853289127349854--0.38441529870033264\n",
            "Epoch 6 completed: Time: 27.66465163230896, loss 2.3933141231536865--0.6605682373046875\n",
            "Epoch 7 completed: Time: 27.83423137664795, loss 2.746776580810547--0.6877554655075073\n",
            "Epoch 8 completed: Time: 27.78905463218689, loss 2.123626470565796--0.6373639702796936\n",
            "Epoch 9 completed: Time: 27.71725845336914, loss 2.503605365753174--0.6324149370193481\n",
            "Epoch 10 completed: Time: 27.72991394996643, loss 1.8813647031784058--0.9045417308807373\n",
            "Epoch 11 completed: Time: 27.704615354537964, loss 1.8340072631835938--0.7216948866844177\n",
            "Epoch 12 completed: Time: 27.67714500427246, loss 1.6723997592926025--0.7088278532028198\n",
            "Epoch 13 completed: Time: 27.678096771240234, loss 1.809278964996338--0.8189555406570435\n",
            "Epoch 14 completed: Time: 27.791412115097046, loss 1.9954572916030884--0.6880244612693787\n",
            "Epoch 15 completed: Time: 27.868380784988403, loss 1.8583307266235352--0.9484497308731079\n",
            "Epoch 16 completed: Time: 27.676907062530518, loss 1.8601109981536865--0.8104090094566345\n",
            "Epoch 17 completed: Time: 27.802393913269043, loss 1.7970329523086548--0.8568105697631836\n",
            "Epoch 18 completed: Time: 27.835765600204468, loss 1.4911644458770752--0.9206361770629883\n",
            "Epoch 19 completed: Time: 27.69442129135132, loss 1.5756721496582031--0.8025212287902832\n",
            "Epoch 20 completed: Time: 27.687886238098145, loss 1.7364388704299927--0.8479717969894409\n",
            "Epoch 21 completed: Time: 27.76678705215454, loss 1.4668879508972168--0.9644284844398499\n",
            "Epoch 22 completed: Time: 27.728732585906982, loss 1.5280609130859375--1.0377311706542969\n",
            "Epoch 23 completed: Time: 27.724578142166138, loss 1.8001205921173096--0.9279543161392212\n",
            "Epoch 24 completed: Time: 27.75127077102661, loss 1.5261048078536987--0.8617290258407593\n",
            "Epoch 25 completed: Time: 27.760865926742554, loss 1.5074046850204468--0.9483760595321655\n",
            "Epoch 26 completed: Time: 27.792412996292114, loss 1.4767097234725952--0.9039380550384521\n",
            "Epoch 27 completed: Time: 27.777557373046875, loss 1.498660683631897--0.8033424019813538\n",
            "Epoch 28 completed: Time: 27.809772491455078, loss 1.405558705329895--0.9704491496086121\n",
            "Epoch 29 completed: Time: 27.776055812835693, loss 1.5404462814331055--0.970583975315094\n",
            "Epoch 30 completed: Time: 27.78801989555359, loss 1.6115989685058594--0.9908711910247803\n",
            "Epoch 31 completed: Time: 27.744460821151733, loss 1.499637246131897--0.9775230884552002\n",
            "Epoch 32 completed: Time: 27.761802673339844, loss 1.4126758575439453--0.837005615234375\n",
            "Epoch 33 completed: Time: 27.7858624458313, loss 1.6878008842468262--0.8885857462882996\n",
            "Epoch 34 completed: Time: 27.818957567214966, loss 1.4007333517074585--0.8774346113204956\n",
            "Epoch 35 completed: Time: 27.773319959640503, loss 1.5164647102355957--0.857955813407898\n",
            "Epoch 36 completed: Time: 27.779510736465454, loss 1.670990228652954--0.8453229665756226\n",
            "Epoch 37 completed: Time: 27.80647325515747, loss 1.1770297288894653--1.1755375862121582\n",
            "Epoch 38 completed: Time: 27.740522384643555, loss 1.4563663005828857--0.9094119071960449\n",
            "Epoch 39 completed: Time: 27.819549798965454, loss 1.7401460409164429--0.9494321346282959\n",
            "Epoch 40 completed: Time: 27.795840740203857, loss 1.5447361469268799--1.0858733654022217\n",
            "Epoch 41 completed: Time: 27.791893243789673, loss 1.4564322233200073--0.9328491687774658\n",
            "Epoch 42 completed: Time: 27.700530290603638, loss 1.8025422096252441--0.8973255157470703\n",
            "Epoch 43 completed: Time: 27.82574486732483, loss 1.6216788291931152--0.9675018787384033\n",
            "Epoch 44 completed: Time: 27.812071084976196, loss 1.478653907775879--1.0374643802642822\n",
            "Epoch 45 completed: Time: 27.740736484527588, loss 1.2580721378326416--1.0148863792419434\n",
            "Epoch 46 completed: Time: 27.82624387741089, loss 1.4929028749465942--0.9155579805374146\n",
            "Epoch 47 completed: Time: 27.7962384223938, loss 1.7397242784500122--0.8805980086326599\n",
            "Epoch 48 completed: Time: 27.836482763290405, loss 1.393587350845337--1.0651828050613403\n",
            "Epoch 49 completed: Time: 27.753581523895264, loss 1.4630403518676758--0.9351240396499634\n",
            "Epoch 50 completed: Time: 27.708630323410034, loss 1.4876549243927002--0.9719270467758179\n",
            "Epoch 51 completed: Time: 27.7402286529541, loss 1.529082179069519--0.9729294776916504\n",
            "Epoch 52 completed: Time: 27.703901767730713, loss 1.315333366394043--0.9602110385894775\n",
            "Epoch 53 completed: Time: 27.841691493988037, loss 1.6791305541992188--0.9885542988777161\n",
            "Epoch 54 completed: Time: 27.767527103424072, loss 1.319230318069458--0.8672726154327393\n",
            "Epoch 55 completed: Time: 27.741215467453003, loss 1.5246444940567017--1.0922739505767822\n",
            "Epoch 56 completed: Time: 27.804781913757324, loss 1.3433688879013062--1.0424304008483887\n",
            "Epoch 57 completed: Time: 27.802557945251465, loss 1.7982752323150635--0.8247272968292236\n",
            "Epoch 58 completed: Time: 27.803427696228027, loss 1.5841325521469116--0.8577879071235657\n",
            "Epoch 59 completed: Time: 27.770020246505737, loss 1.412155032157898--1.0325711965560913\n",
            "Epoch 60 completed: Time: 27.75715136528015, loss 1.7008602619171143--0.9936926364898682\n",
            "Epoch 61 completed: Time: 27.819409132003784, loss 1.8244781494140625--0.8859499096870422\n",
            "Epoch 62 completed: Time: 27.808328866958618, loss 1.4428470134735107--0.9304251670837402\n",
            "Epoch 63 completed: Time: 27.816096544265747, loss 1.7214323282241821--0.8124874830245972\n",
            "Epoch 64 completed: Time: 27.84809374809265, loss 1.4689832925796509--0.9580034017562866\n",
            "Epoch 65 completed: Time: 27.772077798843384, loss 1.3514149188995361--0.9997467994689941\n",
            "Epoch 66 completed: Time: 27.76918339729309, loss 1.3690341711044312--1.0177172422409058\n",
            "Epoch 67 completed: Time: 27.790499210357666, loss 1.368012547492981--0.9851582050323486\n",
            "Epoch 68 completed: Time: 27.802257537841797, loss 1.5549437999725342--0.9293354153633118\n",
            "Epoch 69 completed: Time: 27.74008822441101, loss 1.3066575527191162--1.0008679628372192\n",
            "Epoch 70 completed: Time: 27.74798822402954, loss 1.665325403213501--0.9116116762161255\n",
            "Epoch 71 completed: Time: 27.765778303146362, loss 1.4812484979629517--0.9488410949707031\n",
            "Epoch 72 completed: Time: 27.818140506744385, loss 1.5326199531555176--0.9563974142074585\n",
            "Epoch 73 completed: Time: 27.814881324768066, loss 1.7203283309936523--0.9221775531768799\n",
            "Epoch 74 completed: Time: 27.81563115119934, loss 1.7386868000030518--0.751116156578064\n",
            "Epoch 75 completed: Time: 27.823896169662476, loss 1.6131054162979126--0.9692649841308594\n",
            "Epoch 76 completed: Time: 27.824580192565918, loss 1.5797624588012695--0.9187026023864746\n",
            "Epoch 77 completed: Time: 27.786629676818848, loss 1.6034202575683594--0.8705793619155884\n",
            "Epoch 78 completed: Time: 27.80997347831726, loss 1.6898409128189087--0.9831096529960632\n",
            "Epoch 79 completed: Time: 27.747366428375244, loss 1.6024518013000488--0.9086281061172485\n",
            "Epoch 80 completed: Time: 27.792750358581543, loss 1.8642722368240356--0.8527554273605347\n",
            "Epoch 81 completed: Time: 27.780112266540527, loss 1.5562609434127808--0.9581061601638794\n",
            "Epoch 82 completed: Time: 27.734583139419556, loss 1.6323375701904297--1.1112042665481567\n",
            "Epoch 83 completed: Time: 27.72584819793701, loss 1.666135311126709--0.8426491022109985\n",
            "Epoch 84 completed: Time: 27.702763080596924, loss 1.9124096632003784--0.8098855018615723\n",
            "Epoch 85 completed: Time: 27.690839290618896, loss 1.6151134967803955--0.8452250957489014\n",
            "Epoch 86 completed: Time: 27.693211317062378, loss 1.5338844060897827--0.9091840982437134\n",
            "Epoch 87 completed: Time: 27.743616104125977, loss 1.7345489263534546--0.8728172779083252\n",
            "Epoch 88 completed: Time: 27.787814617156982, loss 1.734493374824524--0.8543444275856018\n",
            "Epoch 89 completed: Time: 27.7542507648468, loss 1.7292168140411377--0.7405531406402588\n",
            "Epoch 90 completed: Time: 27.75151300430298, loss 1.7095345258712769--0.844397783279419\n",
            "Epoch 91 completed: Time: 27.72929096221924, loss 1.6223698854446411--0.9600138664245605\n",
            "Epoch 92 completed: Time: 27.74362325668335, loss 1.6015777587890625--0.8656946420669556\n",
            "Epoch 93 completed: Time: 27.7761332988739, loss 1.7728910446166992--0.788364589214325\n",
            "Epoch 94 completed: Time: 27.72480869293213, loss 1.8945274353027344--0.8363626003265381\n",
            "Epoch 95 completed: Time: 27.763492584228516, loss 1.8740248680114746--0.907281756401062\n",
            "Epoch 96 completed: Time: 27.761209964752197, loss 1.6703081130981445--0.8267072439193726\n",
            "Epoch 97 completed: Time: 27.728018760681152, loss 1.7404083013534546--0.9377795457839966\n",
            "Epoch 98 completed: Time: 27.71747350692749, loss 1.7384313344955444--0.8892590999603271\n",
            "Epoch 99 completed: Time: 27.755340099334717, loss 1.866426944732666--0.8055586814880371\n",
            "Epoch 100 completed: Time: 27.725324869155884, loss 1.9548594951629639--0.7287057638168335\n"
          ],
          "name": "stdout"
        }
      ]
    },
    {
      "cell_type": "code",
      "metadata": {
        "id": "nyR8JZghZjF6",
        "colab_type": "code",
        "colab": {
          "base_uri": "https://localhost:8080/",
          "height": 593
        },
        "outputId": "a427d0ec-e685-4e66-d2d1-ba62641eb172"
      },
      "source": [
        "plt.figure(figsize=(17,10))\n",
        "\n",
        "for val in range(1, 10):\n",
        "  plt.subplot(3,3,val)\n",
        "  plt.imshow(generator(tf.random.normal([1, 100]), training=False)[0, :, :, 0], cmap='gray')"
      ],
      "execution_count": 100,
      "outputs": [
        {
          "output_type": "display_data",
          "data": {
            "image/png": "[encoded data removed]",
            "text/plain": [
              "<Figure size 1224x720 with 9 Axes>"
            ]
          },
          "metadata": {
            "tags": []
          }
        }
      ]
    },
    {
      "cell_type": "code",
      "metadata": {
        "id": "mRa1AjDbac2-",
        "colab_type": "code",
        "colab": {}
      },
      "source": [
        "BATCH_SIZE = 128\n",
        "@tf.function\n",
        "def train_step(images):\n",
        "  noise = tf.random.normal([BATCH_SIZE, noise_dim])\n",
        "\n",
        "  with tf.GradientTape() as gen_tape:\n",
        "    generated_images = generator(noise, training=True)\n",
        "\n",
        "    fake_output = discriminator(generated_images, training = False)\n",
        "\n",
        "    gen_loss = generator_loss(fake_output)\n",
        "\n",
        "  gen_grads = gen_tape.gradient(gen_loss, generator.trainable_variables)\n",
        "\n",
        "  generator_optimizer.apply_gradients(zip(gen_grads, generator.trainable_variables))\n",
        "\n",
        "  return gen_loss"
      ],
      "execution_count": 0,
      "outputs": []
    },
    {
      "cell_type": "code",
      "metadata": {
        "id": "5vMOE46Ea7TF",
        "colab_type": "code",
        "colab": {
          "base_uri": "https://localhost:8080/",
          "height": 885
        },
        "outputId": "08c5ccb1-0c1c-4415-e77e-d7a756e4f567"
      },
      "source": [
        "EPOCHS = 50\n",
        "import time\n",
        "\n",
        "for epoch in range(EPOCHS):\n",
        "  start = time.time()\n",
        "\n",
        "  for image_batch in train_dataset:\n",
        "    gen_loss = train_step(image_batch)\n",
        "  \n",
        "  print(f'Epoch {epoch + 1} completed: Time: {time.time() - start}, loss {gen_loss}')"
      ],
      "execution_count": 102,
      "outputs": [
        {
          "output_type": "stream",
          "text": [
            "Epoch 1 completed: Time: 16.036341190338135, loss 0.00367566617205739\n",
            "Epoch 2 completed: Time: 15.057719230651855, loss 0.0008131721988320351\n",
            "Epoch 3 completed: Time: 15.138899803161621, loss 0.0005040992982685566\n",
            "Epoch 4 completed: Time: 15.286205291748047, loss 0.0005337586626410484\n",
            "Epoch 5 completed: Time: 15.44142746925354, loss 0.0002932813949882984\n",
            "Epoch 6 completed: Time: 15.655419826507568, loss 0.0002017547085415572\n",
            "Epoch 7 completed: Time: 15.927019834518433, loss 0.00014158073463477194\n",
            "Epoch 8 completed: Time: 15.94958209991455, loss 8.093338692560792e-05\n",
            "Epoch 9 completed: Time: 15.69223690032959, loss 8.61568987602368e-05\n",
            "Epoch 10 completed: Time: 15.693052053451538, loss 5.574618262471631e-05\n",
            "Epoch 11 completed: Time: 15.765714883804321, loss 2.6845023967325687e-05\n",
            "Epoch 12 completed: Time: 15.799941778182983, loss 1.819801218516659e-05\n",
            "Epoch 13 completed: Time: 15.772761106491089, loss 2.348347334191203e-05\n",
            "Epoch 14 completed: Time: 15.742439985275269, loss 1.075818272511242e-05\n",
            "Epoch 15 completed: Time: 15.74224305152893, loss 1.266481831407873e-05\n",
            "Epoch 16 completed: Time: 15.749364852905273, loss 5.829653673572466e-06\n",
            "Epoch 17 completed: Time: 15.728304147720337, loss 5.267946562526049e-06\n",
            "Epoch 18 completed: Time: 15.709660530090332, loss 1.8319629816687666e-05\n",
            "Epoch 19 completed: Time: 15.68246340751648, loss 5.727564257540507e-06\n",
            "Epoch 20 completed: Time: 15.701588153839111, loss 2.0190811937936815e-06\n",
            "Epoch 21 completed: Time: 15.682173490524292, loss 2.90759226118098e-06\n",
            "Epoch 22 completed: Time: 15.662566900253296, loss 2.920480483226129e-06\n",
            "Epoch 23 completed: Time: 15.679402351379395, loss 2.1900864339841064e-06\n",
            "Epoch 24 completed: Time: 15.676671028137207, loss 2.5570930120011326e-06\n",
            "Epoch 25 completed: Time: 15.680511951446533, loss 8.936531799008662e-07\n",
            "Epoch 26 completed: Time: 15.67008924484253, loss 2.8850429316662485e-06\n",
            "Epoch 27 completed: Time: 15.63253903388977, loss 4.551162078314519e-07\n",
            "Epoch 28 completed: Time: 15.625010251998901, loss 6.579374485227163e-07\n",
            "Epoch 29 completed: Time: 15.631807088851929, loss 4.773193040819024e-07\n",
            "Epoch 30 completed: Time: 15.59868049621582, loss 3.5522143093658087e-07\n",
            "Epoch 31 completed: Time: 15.584599494934082, loss 2.7870419216924347e-07\n",
            "Epoch 32 completed: Time: 15.583699226379395, loss 4.036068617097044e-07\n",
            "Epoch 33 completed: Time: 15.57507872581482, loss 2.084510839495124e-07\n",
            "Epoch 34 completed: Time: 15.576386451721191, loss 1.3441417934245692e-07\n",
            "Epoch 35 completed: Time: 15.548413753509521, loss 1.4521705793413275e-07\n",
            "Epoch 36 completed: Time: 15.521517515182495, loss 5.83127039988085e-08\n",
            "Epoch 37 completed: Time: 15.536956548690796, loss 6.736653546113303e-08\n",
            "Epoch 38 completed: Time: 15.50132131576538, loss 1.011253232263698e-07\n",
            "Epoch 39 completed: Time: 15.530011892318726, loss 4.063273806309553e-08\n",
            "Epoch 40 completed: Time: 15.515752792358398, loss 8.975373333441894e-08\n",
            "Epoch 41 completed: Time: 15.505587100982666, loss 2.022317246996863e-08\n",
            "Epoch 42 completed: Time: 15.496257305145264, loss 4.427674582530017e-08\n",
            "Epoch 43 completed: Time: 15.47320032119751, loss 1.1816726264157751e-08\n",
            "Epoch 44 completed: Time: 15.50772213935852, loss 1.2785623226818643e-08\n",
            "Epoch 45 completed: Time: 15.503153562545776, loss 1.724378151379824e-08\n",
            "Epoch 46 completed: Time: 15.511046171188354, loss 1.5763234273435955e-08\n",
            "Epoch 47 completed: Time: 15.508711099624634, loss 1.6407602387857878e-08\n",
            "Epoch 48 completed: Time: 15.50968050956726, loss 4.914069595685078e-09\n",
            "Epoch 49 completed: Time: 15.47994065284729, loss 1.3175101898355024e-08\n",
            "Epoch 50 completed: Time: 15.543139457702637, loss 6.777159278215095e-09\n"
          ],
          "name": "stdout"
        }
      ]
    },
    {
      "cell_type": "code",
      "metadata": {
        "id": "CJc7VlPtbCC5",
        "colab_type": "code",
        "colab": {}
      },
      "source": [
        "BATCH_SIZE = 128\n",
        "@tf.function\n",
        "def train_step(images):\n",
        "  noise = tf.random.normal([BATCH_SIZE, noise_dim])\n",
        "\n",
        "  with tf.GradientTape() as gen_tape, tf.GradientTape() as disc_tape:\n",
        "    generated_images = generator(noise, training=True)\n",
        "\n",
        "    real_output = discriminator(images, training=True)\n",
        "    fake_output = discriminator(generated_images, training = True)\n",
        "\n",
        "    gen_loss = generator_loss(fake_output)\n",
        "    disc_loss = discriminator_loss(real_output, fake_output)\n",
        "\n",
        "  gen_grads = gen_tape.gradient(gen_loss, generator.trainable_variables)\n",
        "  disc_grads = disc_tape.gradient(disc_loss, discriminator.trainable_variables)\n",
        "\n",
        "  generator_optimizer.apply_gradients(zip(gen_grads, generator.trainable_variables))\n",
        "  discriminator_optimizer.apply_gradients(zip(disc_grads, discriminator.trainable_variables))\n",
        "\n",
        "  return gen_loss, disc_loss"
      ],
      "execution_count": 0,
      "outputs": []
    },
    {
      "cell_type": "code",
      "metadata": {
        "id": "0GRRxt18efHk",
        "colab_type": "code",
        "colab": {
          "base_uri": "https://localhost:8080/",
          "height": 1000
        },
        "outputId": "8cf2444f-94ec-4b8c-f636-390d8707f7f4"
      },
      "source": [
        "EPOCHS = 100\n",
        "import time\n",
        "\n",
        "for epoch in range(EPOCHS):\n",
        "  start = time.time()\n",
        "\n",
        "  for image_batch in train_dataset:\n",
        "    gen_loss, disc_loss = train_step(image_batch)\n",
        "  \n",
        "  print(f'Epoch {epoch + 1} completed: Time: {time.time() - start}, loss {gen_loss}--{disc_loss}')"
      ],
      "execution_count": 104,
      "outputs": [
        {
          "output_type": "stream",
          "text": [
            "Epoch 1 completed: Time: 28.823432207107544, loss 2.5106866359710693--0.59033203125\n",
            "Epoch 2 completed: Time: 27.26766872406006, loss 1.9618337154388428--0.7339624166488647\n",
            "Epoch 3 completed: Time: 28.05170726776123, loss 2.1434226036071777--0.7499864101409912\n",
            "Epoch 4 completed: Time: 27.872981548309326, loss 2.240485191345215--0.6233412027359009\n",
            "Epoch 5 completed: Time: 27.791998624801636, loss 2.4798121452331543--0.7011038064956665\n",
            "Epoch 6 completed: Time: 27.80189323425293, loss 1.7341327667236328--0.8177409768104553\n",
            "Epoch 7 completed: Time: 27.841129302978516, loss 2.1673059463500977--0.6765384674072266\n",
            "Epoch 8 completed: Time: 27.804473161697388, loss 2.213881492614746--0.7751384973526001\n",
            "Epoch 9 completed: Time: 27.81749987602234, loss 1.9294109344482422--0.743554949760437\n",
            "Epoch 10 completed: Time: 27.821739673614502, loss 2.0364890098571777--0.8928444385528564\n",
            "Epoch 11 completed: Time: 27.783836841583252, loss 1.988109827041626--0.7852784395217896\n",
            "Epoch 12 completed: Time: 27.8293354511261, loss 1.9324909448623657--0.7709635496139526\n",
            "Epoch 13 completed: Time: 27.785186767578125, loss 2.0067288875579834--0.7340415716171265\n",
            "Epoch 14 completed: Time: 27.753442764282227, loss 1.678132176399231--0.9011929035186768\n",
            "Epoch 15 completed: Time: 27.755059242248535, loss 1.9774458408355713--0.7756924629211426\n",
            "Epoch 16 completed: Time: 27.758490324020386, loss 2.078885793685913--0.7608307003974915\n",
            "Epoch 17 completed: Time: 27.781619548797607, loss 2.0060083866119385--0.7021764516830444\n",
            "Epoch 18 completed: Time: 27.736896276474, loss 1.5630717277526855--0.7991880178451538\n",
            "Epoch 19 completed: Time: 27.7562837600708, loss 1.888554573059082--0.7451823949813843\n",
            "Epoch 20 completed: Time: 27.72439169883728, loss 1.742678165435791--0.7328177094459534\n",
            "Epoch 21 completed: Time: 27.75666379928589, loss 1.3813939094543457--0.9305246472358704\n",
            "Epoch 22 completed: Time: 27.733566761016846, loss 2.02445650100708--0.665523886680603\n",
            "Epoch 23 completed: Time: 27.794631242752075, loss 2.0302987098693848--0.7746763825416565\n",
            "Epoch 24 completed: Time: 27.823457956314087, loss 1.8072816133499146--0.7870522737503052\n",
            "Epoch 25 completed: Time: 27.754229307174683, loss 2.0102317333221436--0.7579871416091919\n",
            "Epoch 26 completed: Time: 27.77491807937622, loss 1.958641767501831--0.6760143637657166\n",
            "Epoch 27 completed: Time: 27.78092861175537, loss 2.019554853439331--0.752643883228302\n",
            "Epoch 28 completed: Time: 27.751583337783813, loss 1.7083266973495483--0.815127432346344\n",
            "Epoch 29 completed: Time: 27.75269627571106, loss 1.9412257671356201--0.9151312112808228\n",
            "Epoch 30 completed: Time: 27.74799108505249, loss 1.978666067123413--0.7322592735290527\n",
            "Epoch 31 completed: Time: 27.75360679626465, loss 2.2566356658935547--0.8214749097824097\n",
            "Epoch 32 completed: Time: 27.803966283798218, loss 1.9885969161987305--0.786710262298584\n",
            "Epoch 33 completed: Time: 27.7915780544281, loss 2.064370632171631--0.8964475393295288\n",
            "Epoch 34 completed: Time: 27.808378219604492, loss 2.0161004066467285--0.7398200631141663\n",
            "Epoch 35 completed: Time: 27.770610570907593, loss 2.2895476818084717--0.8064658045768738\n",
            "Epoch 36 completed: Time: 27.72555661201477, loss 2.2284257411956787--0.7206683158874512\n",
            "Epoch 37 completed: Time: 27.792126893997192, loss 1.8664045333862305--0.7792655229568481\n",
            "Epoch 38 completed: Time: 27.784294366836548, loss 2.0218493938446045--0.7325236797332764\n",
            "Epoch 39 completed: Time: 27.809550046920776, loss 1.7674427032470703--0.9182466268539429\n",
            "Epoch 40 completed: Time: 27.774386405944824, loss 2.0698537826538086--0.7880210876464844\n",
            "Epoch 41 completed: Time: 27.788392066955566, loss 2.389702320098877--0.6791375279426575\n",
            "Epoch 42 completed: Time: 27.789858102798462, loss 2.319094181060791--0.7928216457366943\n",
            "Epoch 43 completed: Time: 27.760820150375366, loss 2.362584114074707--0.7532327175140381\n",
            "Epoch 44 completed: Time: 27.792165517807007, loss 1.8304818868637085--0.7242475748062134\n",
            "Epoch 45 completed: Time: 27.770907163619995, loss 2.3401267528533936--0.552398145198822\n",
            "Epoch 46 completed: Time: 27.782581567764282, loss 2.201326847076416--0.7876687049865723\n",
            "Epoch 47 completed: Time: 27.81219744682312, loss 1.9563095569610596--0.6729918718338013\n",
            "Epoch 48 completed: Time: 27.793081760406494, loss 2.3762264251708984--0.6600509881973267\n",
            "Epoch 49 completed: Time: 27.8327739238739, loss 2.121784210205078--0.6916524171829224\n",
            "Epoch 50 completed: Time: 27.802905082702637, loss 1.991599440574646--0.7884591817855835\n",
            "Epoch 51 completed: Time: 27.82158875465393, loss 2.367722988128662--0.9298500418663025\n",
            "Epoch 52 completed: Time: 27.83607578277588, loss 2.271406412124634--0.7315784692764282\n",
            "Epoch 53 completed: Time: 27.843830347061157, loss 2.4663639068603516--0.588828980922699\n",
            "Epoch 54 completed: Time: 27.82357120513916, loss 2.587739944458008--0.5616994500160217\n",
            "Epoch 55 completed: Time: 27.832165002822876, loss 2.1418583393096924--0.7861776351928711\n",
            "Epoch 56 completed: Time: 27.7998206615448, loss 2.3755555152893066--0.6553589105606079\n",
            "Epoch 57 completed: Time: 27.820386171340942, loss 2.424504041671753--0.7063843607902527\n",
            "Epoch 58 completed: Time: 27.775752305984497, loss 2.0505576133728027--0.6215249300003052\n",
            "Epoch 59 completed: Time: 27.801262140274048, loss 2.5168490409851074--0.7292866706848145\n",
            "Epoch 60 completed: Time: 27.77250599861145, loss 2.3140430450439453--0.64604252576828\n",
            "Epoch 61 completed: Time: 27.744844675064087, loss 2.196226119995117--0.6909959316253662\n",
            "Epoch 62 completed: Time: 27.779258489608765, loss 2.3818812370300293--0.5970752239227295\n",
            "Epoch 63 completed: Time: 27.792303562164307, loss 2.465362548828125--0.5510931015014648\n",
            "Epoch 64 completed: Time: 27.89700698852539, loss 2.3066484928131104--0.7061704397201538\n",
            "Epoch 65 completed: Time: 27.836406469345093, loss 2.4505527019500732--0.7555213570594788\n",
            "Epoch 66 completed: Time: 27.831336498260498, loss 2.7953391075134277--0.6033111810684204\n",
            "Epoch 67 completed: Time: 27.77109122276306, loss 2.2812752723693848--0.7320680618286133\n",
            "Epoch 68 completed: Time: 27.81467342376709, loss 2.3529417514801025--0.6672298908233643\n",
            "Epoch 69 completed: Time: 27.804773807525635, loss 2.2572219371795654--0.6380835175514221\n",
            "Epoch 70 completed: Time: 27.717055559158325, loss 2.245588779449463--0.7011630535125732\n",
            "Epoch 71 completed: Time: 27.792743682861328, loss 2.28808856010437--0.6802065372467041\n",
            "Epoch 72 completed: Time: 27.753222703933716, loss 2.425724983215332--0.628834068775177\n",
            "Epoch 73 completed: Time: 27.76134467124939, loss 2.5429728031158447--0.6454468965530396\n",
            "Epoch 74 completed: Time: 27.75763249397278, loss 2.4515833854675293--0.6066027283668518\n",
            "Epoch 75 completed: Time: 27.75925040245056, loss 2.359489917755127--0.8033449053764343\n",
            "Epoch 76 completed: Time: 27.774993896484375, loss 2.5579891204833984--0.6473498344421387\n",
            "Epoch 77 completed: Time: 27.78453516960144, loss 2.7179999351501465--0.7125884294509888\n",
            "Epoch 78 completed: Time: 27.8389675617218, loss 2.7258458137512207--0.7108076214790344\n",
            "Epoch 79 completed: Time: 27.802792072296143, loss 2.3543505668640137--0.6142175197601318\n",
            "Epoch 80 completed: Time: 27.83656930923462, loss 2.4357264041900635--0.6679102182388306\n",
            "Epoch 81 completed: Time: 27.787327766418457, loss 2.5115630626678467--0.6692708730697632\n",
            "Epoch 82 completed: Time: 27.77608036994934, loss 2.4969072341918945--0.7413368225097656\n",
            "Epoch 83 completed: Time: 27.764073133468628, loss 2.420104503631592--0.5971525311470032\n",
            "Epoch 84 completed: Time: 27.805546760559082, loss 2.717411994934082--0.6794358491897583\n",
            "Epoch 85 completed: Time: 27.77155303955078, loss 2.6220431327819824--0.5447511672973633\n",
            "Epoch 86 completed: Time: 27.80743646621704, loss 2.196560859680176--0.6560690999031067\n",
            "Epoch 87 completed: Time: 27.848448753356934, loss 2.2132928371429443--0.7218642234802246\n",
            "Epoch 88 completed: Time: 27.78377914428711, loss 2.4513700008392334--0.6094115972518921\n",
            "Epoch 89 completed: Time: 27.805847644805908, loss 2.9021124839782715--0.5245559811592102\n",
            "Epoch 90 completed: Time: 27.774900197982788, loss 2.830644130706787--0.6232041120529175\n",
            "Epoch 91 completed: Time: 27.826855421066284, loss 2.576540470123291--0.6822876930236816\n",
            "Epoch 92 completed: Time: 27.802021741867065, loss 2.530336856842041--0.8042304515838623\n",
            "Epoch 93 completed: Time: 27.80766797065735, loss 2.210599184036255--0.7797651290893555\n",
            "Epoch 94 completed: Time: 27.838786602020264, loss 2.9830477237701416--0.6566528677940369\n",
            "Epoch 95 completed: Time: 27.815418481826782, loss 2.524468421936035--0.6462192535400391\n",
            "Epoch 96 completed: Time: 27.796157360076904, loss 2.288532257080078--0.789175271987915\n",
            "Epoch 97 completed: Time: 27.813387870788574, loss 2.622166395187378--0.6080259084701538\n",
            "Epoch 98 completed: Time: 27.84217643737793, loss 2.428346633911133--0.6614397168159485\n",
            "Epoch 99 completed: Time: 27.780195236206055, loss 3.3498454093933105--0.6305385828018188\n",
            "Epoch 100 completed: Time: 27.799967527389526, loss 2.7791686058044434--0.6083952784538269\n"
          ],
          "name": "stdout"
        }
      ]
    },
    {
      "cell_type": "code",
      "metadata": {
        "id": "wEK4AvyeekRY",
        "colab_type": "code",
        "colab": {
          "base_uri": "https://localhost:8080/",
          "height": 593
        },
        "outputId": "2323a8a0-9389-4312-bc78-518c2a5a6bb3"
      },
      "source": [
        "plt.figure(figsize=(17,10))\n",
        "\n",
        "for val in range(1, 10):\n",
        "  plt.subplot(3,3,val)\n",
        "  plt.imshow(generator(tf.random.normal([1, 100]), training=False)[0, :, :, 0], cmap='gray')"
      ],
      "execution_count": 105,
      "outputs": [
        {
          "output_type": "display_data",
          "data": {
            "image/png": "[encoded data removed]",
            "text/plain": [
              "<Figure size 1224x720 with 9 Axes>"
            ]
          },
          "metadata": {
            "tags": []
          }
        }
      ]
    },
    {
      "cell_type": "code",
      "metadata": {
        "id": "5Gr8ElqxpR0c",
        "colab_type": "code",
        "colab": {}
      },
      "source": [
        ""
      ],
      "execution_count": 0,
      "outputs": []
    }
  ]
}