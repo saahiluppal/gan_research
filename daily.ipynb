{
  "nbformat": 4,
  "nbformat_minor": 0,
  "metadata": {
    "colab": {
      "name": "daily.ipynb",
      "provenance": [],
      "collapsed_sections": []
    },
    "kernelspec": {
      "name": "python3",
      "display_name": "Python 3"
    },
    "accelerator": "GPU"
  },
  "cells": [
    {
      "cell_type": "code",
      "metadata": {
        "id": "cI437wGMetzI",
        "colab_type": "code",
        "colab": {}
      },
      "source": [
        "import tensorflow as tf\n",
        "import numpy as np\n",
        "import os\n",
        "import matplotlib.pyplot as plt"
      ],
      "execution_count": 0,
      "outputs": []
    },
    {
      "cell_type": "code",
      "metadata": {
        "id": "2DIn3VhKe3hp",
        "colab_type": "code",
        "colab": {}
      },
      "source": [
        "img_rows, img_cols, img_ch = 28, 28, 1\n",
        "input_shape = (img_rows, img_cols, img_ch)\n",
        "batch_size = 256\n",
        "num_epochs = 50"
      ],
      "execution_count": 0,
      "outputs": []
    },
    {
      "cell_type": "code",
      "metadata": {
        "id": "GPLbrjY9fJpJ",
        "colab_type": "code",
        "colab": {
          "base_uri": "https://localhost:8080/",
          "height": 52
        },
        "outputId": "3240a2cb-8cdd-446f-b42a-0f4cca0ceb28"
      },
      "source": [
        "(X_train, y_train), (X_test, y_test) = tf.keras.datasets.mnist.load_data()\n",
        "X_train, X_test = X_train / 127.5 - 1., X_test / 127.5 -1"
      ],
      "execution_count": 4,
      "outputs": [
        {
          "output_type": "stream",
          "text": [
            "Downloading data from https://storage.googleapis.com/tensorflow/tf-keras-datasets/mnist.npz\n",
            "11493376/11490434 [==============================] - 0s 0us/step\n"
          ],
          "name": "stdout"
        }
      ]
    },
    {
      "cell_type": "code",
      "metadata": {
        "id": "osEcJp4bfboO",
        "colab_type": "code",
        "colab": {}
      },
      "source": [
        "X_train = X_train.reshape(-1, *input_shape).astype(np.float32)\n",
        "X_test = X_test.reshape(-1, *input_shape).astype(np.float32)"
      ],
      "execution_count": 0,
      "outputs": []
    },
    {
      "cell_type": "code",
      "metadata": {
        "id": "V7BNdnKnffG4",
        "colab_type": "code",
        "colab": {}
      },
      "source": [
        "BUFFER_SIZE = 200_000\n",
        "BATCH_SIZE = 256"
      ],
      "execution_count": 0,
      "outputs": []
    },
    {
      "cell_type": "code",
      "metadata": {
        "id": "W_kXdGpvgbHL",
        "colab_type": "code",
        "colab": {}
      },
      "source": [
        "train_dataset = tf.data.Dataset.from_tensor_slices(X_train).shuffle(BUFFER_SIZE).batch(BATCH_SIZE)"
      ],
      "execution_count": 0,
      "outputs": []
    },
    {
      "cell_type": "code",
      "metadata": {
        "id": "o5vKHt4ogozI",
        "colab_type": "code",
        "colab": {}
      },
      "source": [
        "val_dataset = tf.data.Dataset.from_tensor_slices(X_test).shuffle(BUFFER_SIZE).batch(BATCH_SIZE)"
      ],
      "execution_count": 0,
      "outputs": []
    },
    {
      "cell_type": "code",
      "metadata": {
        "id": "YUHpEZmmgxpF",
        "colab_type": "code",
        "colab": {}
      },
      "source": [
        "train_steps_per_epoch = tf.math.ceil(X_train.shape[0] / BATCH_SIZE)\n",
        "val_steps_per_epoch = tf.math.ceil(X_test.shape[0] / BATCH_SIZE)"
      ],
      "execution_count": 0,
      "outputs": []
    },
    {
      "cell_type": "code",
      "metadata": {
        "id": "qBDKcCE-g-RA",
        "colab_type": "code",
        "colab": {}
      },
      "source": [
        ""
      ],
      "execution_count": 0,
      "outputs": []
    },
    {
      "cell_type": "code",
      "metadata": {
        "id": "JrbTG7UFhcfc",
        "colab_type": "code",
        "colab": {}
      },
      "source": [
        "kernel_size = 4\n",
        "noise_dim = 2\n",
        "filters_orig_gen = 64\n",
        "layer_depth_gen = 3\n",
        "filters_orig_disc = 64\n",
        "layer_depth_disc = 3"
      ],
      "execution_count": 0,
      "outputs": []
    },
    {
      "cell_type": "code",
      "metadata": {
        "id": "FjRI7JXphnBL",
        "colab_type": "code",
        "colab": {}
      },
      "source": [
        "from tensorflow.keras import layers"
      ],
      "execution_count": 0,
      "outputs": []
    },
    {
      "cell_type": "code",
      "metadata": {
        "id": "V7fAUCpVhp2o",
        "colab_type": "code",
        "colab": {}
      },
      "source": [
        ""
      ],
      "execution_count": 0,
      "outputs": []
    },
    {
      "cell_type": "code",
      "metadata": {
        "id": "EgZT_KDdikhb",
        "colab_type": "code",
        "colab": {}
      },
      "source": [
        ""
      ],
      "execution_count": 0,
      "outputs": []
    },
    {
      "cell_type": "code",
      "metadata": {
        "id": "Vdjqe99qi4w0",
        "colab_type": "code",
        "colab": {}
      },
      "source": [
        "def generator_model():\n",
        "  model = tf.keras.Sequential([\n",
        "          tf.keras.layers.Dense(7 * 7 * 256, input_shape=(100, )),\n",
        "          tf.keras.layers.BatchNormalization(),\n",
        "          tf.keras.layers.LeakyReLU(),\n",
        "\n",
        "          tf.keras.layers.Reshape(target_shape=(7, 7, 256)),\n",
        "\n",
        "          tf.keras.layers.Conv2DTranspose(128, (3, 3), padding='same'),\n",
        "          tf.keras.layers.BatchNormalization(),\n",
        "          tf.keras.layers.LeakyReLU(),\n",
        "          \n",
        "          tf.keras.layers.Conv2DTranspose(64, (3, 3), strides=(2, 2), padding='same'),\n",
        "          tf.keras.layers.BatchNormalization(),\n",
        "          tf.keras.layers.LeakyReLU(),\n",
        "\n",
        "          tf.keras.layers.Conv2DTranspose(1, (3, 3), strides = (2,2), padding='same', activation='tanh'),\n",
        "  ])\n",
        "  return model"
      ],
      "execution_count": 0,
      "outputs": []
    },
    {
      "cell_type": "code",
      "metadata": {
        "id": "NW3b164NjR9M",
        "colab_type": "code",
        "colab": {}
      },
      "source": [
        "def discriminator_model():\n",
        "  model = tf.keras.Sequential([\n",
        "          tf.keras.layers.Conv2D(64, kernel_size=(5,5), input_shape=(28,28,1), strides=2, padding='same'),\n",
        "          tf.keras.layers.BatchNormalization(),\n",
        "          tf.keras.layers.LeakyReLU(),\n",
        "          tf.keras.layers.Dropout(0.3),\n",
        "\n",
        "          tf.keras.layers.Conv2D(128, kernel_size=(3,3), strides=2, padding='same'),\n",
        "          tf.keras.layers.LeakyReLU(),\n",
        "          tf.keras.layers.Dropout(0.3),\n",
        "\n",
        "          tf.keras.layers.Conv2D(256, kernel_size=(3,3), strides=2, padding='same'),\n",
        "          tf.keras.layers.LeakyReLU(),\n",
        "\n",
        "          tf.keras.layers.Flatten(),\n",
        "          tf.keras.layers.Dense(1),\n",
        "  ])\n",
        "  return model"
      ],
      "execution_count": 0,
      "outputs": []
    },
    {
      "cell_type": "code",
      "metadata": {
        "id": "rQ68ckKzjfiH",
        "colab_type": "code",
        "colab": {}
      },
      "source": [
        "generator = generator_model()\n",
        "discriminator = discriminator_model()"
      ],
      "execution_count": 0,
      "outputs": []
    },
    {
      "cell_type": "code",
      "metadata": {
        "id": "2rm1Hs9Wn7Bh",
        "colab_type": "code",
        "colab": {
          "base_uri": "https://localhost:8080/",
          "height": 282
        },
        "outputId": "5474371f-4294-415e-be9a-3a7d3163abde"
      },
      "source": [
        "noise = tf.random.normal([1, 100])\n",
        "generated_image = generator(noise, training=False)\n",
        "plt.imshow(generated_image[0, :, :, 0], cmap='gray')"
      ],
      "execution_count": 155,
      "outputs": [
        {
          "output_type": "execute_result",
          "data": {
            "text/plain": [
              "<matplotlib.image.AxesImage at 0x7f651ed23be0>"
            ]
          },
          "metadata": {
            "tags": []
          },
          "execution_count": 155
        },
        {
          "output_type": "display_data",
          "data": {
            "image/png": "[encoded data removed]",
            "text/plain": [
              "<Figure size 432x288 with 1 Axes>"
            ]
          },
          "metadata": {
            "tags": []
          }
        }
      ]
    },
    {
      "cell_type": "code",
      "metadata": {
        "id": "956YdloJpq8U",
        "colab_type": "code",
        "colab": {
          "base_uri": "https://localhost:8080/",
          "height": 34
        },
        "outputId": "dfebd42d-f207-451e-e3ab-e835ccacd2f8"
      },
      "source": [
        "decision = discriminator(generated_image)\n",
        "print(decision)"
      ],
      "execution_count": 156,
      "outputs": [
        {
          "output_type": "stream",
          "text": [
            "tf.Tensor([[0.00010242]], shape=(1, 1), dtype=float32)\n"
          ],
          "name": "stdout"
        }
      ]
    },
    {
      "cell_type": "code",
      "metadata": {
        "id": "l0HSQapLp7sa",
        "colab_type": "code",
        "colab": {}
      },
      "source": [
        "cross_entropy = tf.keras.losses.BinaryCrossentropy(from_logits = True)"
      ],
      "execution_count": 0,
      "outputs": []
    },
    {
      "cell_type": "code",
      "metadata": {
        "id": "u1kR8tSjqglZ",
        "colab_type": "code",
        "colab": {}
      },
      "source": [
        "def discriminator_loss(real_output, fake_output):\n",
        "  real_loss = cross_entropy(tf.ones_like(real_output), real_output)\n",
        "  fake_loss = cross_entropy(tf.zeros_like(fake_output), fake_output)\n",
        "  return real_loss + fake_loss"
      ],
      "execution_count": 0,
      "outputs": []
    },
    {
      "cell_type": "code",
      "metadata": {
        "id": "jsP425req-T-",
        "colab_type": "code",
        "colab": {}
      },
      "source": [
        "def generator_loss(fake_output):\n",
        "  return cross_entropy(tf.ones_like(fake_output), fake_output)"
      ],
      "execution_count": 0,
      "outputs": []
    },
    {
      "cell_type": "code",
      "metadata": {
        "id": "tLblR0uBrHOO",
        "colab_type": "code",
        "colab": {}
      },
      "source": [
        "generator_optimizer = tf.keras.optimizers.Adam(1e-4)\n",
        "discriminator_optimizer = tf.keras.optimizers.Adam(1e-4)"
      ],
      "execution_count": 0,
      "outputs": []
    },
    {
      "cell_type": "code",
      "metadata": {
        "id": "AInY2xnlrJW0",
        "colab_type": "code",
        "colab": {}
      },
      "source": [
        "checkpoint_dir = './training_checkpoints'\n",
        "checkpoint_prefix = os.path.join(checkpoint_dir, \"ckpt\")\n",
        "checkpoint = tf.train.Checkpoint(generator_optimizer=generator_optimizer,\n",
        "                                 discriminator_optimizer=discriminator_optimizer,\n",
        "                                 generator=generator,\n",
        "                                 discriminator=discriminator)"
      ],
      "execution_count": 0,
      "outputs": []
    },
    {
      "cell_type": "code",
      "metadata": {
        "id": "aYdVoXGlrLWJ",
        "colab_type": "code",
        "colab": {}
      },
      "source": [
        "EPOCHS = 50\n",
        "noise_dim = 100\n",
        "num_examples_to_generate = 16\n",
        "\n",
        "# We will reuse this seed overtime (so it's easier)\n",
        "# to visualize progress in the animated GIF)\n",
        "seed = tf.random.normal([num_examples_to_generate, noise_dim])"
      ],
      "execution_count": 0,
      "outputs": []
    },
    {
      "cell_type": "code",
      "metadata": {
        "id": "rMYqhuKGrOS0",
        "colab_type": "code",
        "colab": {}
      },
      "source": [
        "BATCH_SIZE = 128\n",
        "@tf.function\n",
        "def train_step(images):\n",
        "  noise = tf.random.normal([BATCH_SIZE, noise_dim])\n",
        "\n",
        "  with tf.GradientTape() as gen_tape, tf.GradientTape() as disc_tape:\n",
        "    generated_images = generator(noise, training=True)\n",
        "\n",
        "    real_output = discriminator(images, training=True)\n",
        "    fake_output = discriminator(generated_images, training = True)\n",
        "\n",
        "    gen_loss = generator_loss(fake_output)\n",
        "    disc_loss = discriminator_loss(real_output, fake_output)\n",
        "\n",
        "  gen_grads = gen_tape.gradient(gen_loss, generator.trainable_variables)\n",
        "  disc_grads = disc_tape.gradient(disc_loss, discriminator.trainable_variables)\n",
        "\n",
        "  generator_optimizer.apply_gradients(zip(gen_grads, generator.trainable_variables))\n",
        "  discriminator_optimizer.apply_gradients(zip(disc_grads, discriminator.trainable_variables))\n",
        "\n",
        "  return gen_loss, disc_loss"
      ],
      "execution_count": 0,
      "outputs": []
    },
    {
      "cell_type": "code",
      "metadata": {
        "id": "50mBJJdosSwP",
        "colab_type": "code",
        "colab": {
          "base_uri": "https://localhost:8080/",
          "height": 1000
        },
        "outputId": "ffd5806c-f4cc-4e21-9714-624a1565d3cb"
      },
      "source": [
        "EPOCHS = 100\n",
        "import time\n",
        "\n",
        "for epoch in range(EPOCHS):\n",
        "  start = time.time()\n",
        "\n",
        "  for image_batch in train_dataset:\n",
        "    gen_loss, disc_loss = train_step(image_batch)\n",
        "  \n",
        "  print(f'Epoch {epoch + 1} completed: Time: {time.time() - start}, loss {gen_loss}--{disc_loss}')"
      ],
      "execution_count": 164,
      "outputs": [
        {
          "output_type": "stream",
          "text": [
            "Epoch 1 completed: Time: 18.800602197647095, loss 5.143141746520996--0.040514856576919556\n",
            "Epoch 2 completed: Time: 15.177192687988281, loss 4.523449420928955--0.24916468560695648\n",
            "Epoch 3 completed: Time: 15.115487337112427, loss 2.5860469341278076--0.4664159119129181\n",
            "Epoch 4 completed: Time: 15.110501527786255, loss 2.6451144218444824--0.43617966771125793\n",
            "Epoch 5 completed: Time: 15.179088830947876, loss 2.0861124992370605--0.6320942044258118\n",
            "Epoch 6 completed: Time: 15.171453952789307, loss 3.200198173522949--0.4547361135482788\n",
            "Epoch 7 completed: Time: 15.15543246269226, loss 3.011258125305176--0.5221967697143555\n",
            "Epoch 8 completed: Time: 15.18050217628479, loss 2.9380953311920166--0.4600459337234497\n",
            "Epoch 9 completed: Time: 15.19673752784729, loss 3.178009510040283--0.5956310033798218\n",
            "Epoch 10 completed: Time: 15.189095735549927, loss 2.440446376800537--0.5567805767059326\n",
            "Epoch 11 completed: Time: 15.192461729049683, loss 1.4103453159332275--0.8670836091041565\n",
            "Epoch 12 completed: Time: 15.17005968093872, loss 2.809324264526367--0.4761733412742615\n",
            "Epoch 13 completed: Time: 15.19851541519165, loss 2.192784070968628--0.8371425867080688\n",
            "Epoch 14 completed: Time: 15.184462785720825, loss 2.345444679260254--0.7622557878494263\n",
            "Epoch 15 completed: Time: 15.129810333251953, loss 1.7933732271194458--0.9392613768577576\n",
            "Epoch 16 completed: Time: 15.151411533355713, loss 2.4308409690856934--0.6443857550621033\n",
            "Epoch 17 completed: Time: 15.150150537490845, loss 1.7664731740951538--0.8421088457107544\n",
            "Epoch 18 completed: Time: 15.169360876083374, loss 1.2364267110824585--1.2333990335464478\n",
            "Epoch 19 completed: Time: 15.15830135345459, loss 1.793745994567871--0.8304684162139893\n",
            "Epoch 20 completed: Time: 15.106251955032349, loss 1.8123867511749268--1.0532467365264893\n",
            "Epoch 21 completed: Time: 15.147610425949097, loss 1.343625545501709--1.189014196395874\n",
            "Epoch 22 completed: Time: 15.080836296081543, loss 2.0926222801208496--0.9679614305496216\n",
            "Epoch 23 completed: Time: 15.155216217041016, loss 1.709633469581604--0.9610143899917603\n",
            "Epoch 24 completed: Time: 15.150089025497437, loss 1.6486432552337646--0.9127247929573059\n",
            "Epoch 25 completed: Time: 15.12017273902893, loss 1.2017145156860352--1.120786190032959\n",
            "Epoch 26 completed: Time: 15.135557413101196, loss 1.3697199821472168--1.0950322151184082\n",
            "Epoch 27 completed: Time: 15.167808771133423, loss 1.6097006797790527--0.7311655282974243\n",
            "Epoch 28 completed: Time: 15.167972326278687, loss 1.452296257019043--0.765792727470398\n",
            "Epoch 29 completed: Time: 15.211272239685059, loss 1.5743780136108398--0.8522598147392273\n",
            "Epoch 30 completed: Time: 15.173605680465698, loss 1.4748226404190063--0.934300422668457\n",
            "Epoch 31 completed: Time: 15.177054643630981, loss 1.4168188571929932--1.0582034587860107\n",
            "Epoch 32 completed: Time: 15.159709215164185, loss 1.5960180759429932--0.7903814315795898\n",
            "Epoch 33 completed: Time: 15.153678894042969, loss 1.5906825065612793--0.981378436088562\n",
            "Epoch 34 completed: Time: 15.134021282196045, loss 1.0941846370697021--1.1452484130859375\n",
            "Epoch 35 completed: Time: 15.215172529220581, loss 1.368138313293457--0.852912187576294\n",
            "Epoch 36 completed: Time: 15.199854373931885, loss 1.2582341432571411--1.1373720169067383\n",
            "Epoch 37 completed: Time: 15.167625904083252, loss 1.6087098121643066--1.0375093221664429\n",
            "Epoch 38 completed: Time: 15.206338882446289, loss 1.6204371452331543--0.8920187950134277\n",
            "Epoch 39 completed: Time: 15.206866025924683, loss 1.098825454711914--1.0605159997940063\n",
            "Epoch 40 completed: Time: 15.172472715377808, loss 0.9809725284576416--1.168526530265808\n",
            "Epoch 41 completed: Time: 15.169108390808105, loss 1.3904035091400146--1.0221350193023682\n",
            "Epoch 42 completed: Time: 15.228097200393677, loss 1.4454855918884277--0.8600715398788452\n",
            "Epoch 43 completed: Time: 15.219089031219482, loss 1.1139671802520752--1.046423316001892\n",
            "Epoch 44 completed: Time: 15.202497720718384, loss 1.4769890308380127--0.9163010120391846\n",
            "Epoch 45 completed: Time: 15.224285125732422, loss 1.3506460189819336--1.048482894897461\n",
            "Epoch 46 completed: Time: 15.183139324188232, loss 1.4251718521118164--1.087881326675415\n",
            "Epoch 47 completed: Time: 15.200317859649658, loss 1.3427989482879639--0.9819179773330688\n",
            "Epoch 48 completed: Time: 15.16030478477478, loss 1.411267876625061--0.9464583396911621\n",
            "Epoch 49 completed: Time: 15.148143291473389, loss 1.3333165645599365--0.9884752035140991\n",
            "Epoch 50 completed: Time: 15.169212579727173, loss 1.467867374420166--1.163543701171875\n",
            "Epoch 51 completed: Time: 15.149698257446289, loss 1.5180566310882568--1.1235377788543701\n",
            "Epoch 52 completed: Time: 15.18405294418335, loss 1.200838327407837--1.2325096130371094\n",
            "Epoch 53 completed: Time: 15.134798288345337, loss 1.1748249530792236--0.9736624956130981\n",
            "Epoch 54 completed: Time: 15.218394756317139, loss 1.2427239418029785--1.0039485692977905\n",
            "Epoch 55 completed: Time: 15.187787055969238, loss 1.1728801727294922--1.0836255550384521\n",
            "Epoch 56 completed: Time: 15.1662015914917, loss 1.259791612625122--0.8312622308731079\n",
            "Epoch 57 completed: Time: 15.129952192306519, loss 1.2562055587768555--0.905476450920105\n",
            "Epoch 58 completed: Time: 15.154770135879517, loss 1.5486747026443481--1.105737328529358\n",
            "Epoch 59 completed: Time: 15.150890588760376, loss 1.1638412475585938--1.0691641569137573\n",
            "Epoch 60 completed: Time: 15.195352554321289, loss 1.4449434280395508--0.8765960931777954\n",
            "Epoch 61 completed: Time: 15.196024179458618, loss 1.335235595703125--1.0766093730926514\n",
            "Epoch 62 completed: Time: 15.145095109939575, loss 1.0434370040893555--1.0699821710586548\n",
            "Epoch 63 completed: Time: 15.19381594657898, loss 1.5220961570739746--0.9595102071762085\n",
            "Epoch 64 completed: Time: 15.196439981460571, loss 1.2367373704910278--1.0872411727905273\n",
            "Epoch 65 completed: Time: 15.183226108551025, loss 1.3172576427459717--1.215829849243164\n",
            "Epoch 66 completed: Time: 15.184103727340698, loss 1.114683747291565--1.1645928621292114\n",
            "Epoch 67 completed: Time: 15.1773841381073, loss 1.3638148307800293--0.9168142080307007\n",
            "Epoch 68 completed: Time: 15.136274576187134, loss 1.3794167041778564--0.9809702634811401\n",
            "Epoch 69 completed: Time: 15.193820238113403, loss 1.3733397722244263--0.9398520588874817\n",
            "Epoch 70 completed: Time: 15.157506942749023, loss 1.1867939233779907--1.0401809215545654\n",
            "Epoch 71 completed: Time: 15.196011781692505, loss 1.7086524963378906--0.9694766998291016\n",
            "Epoch 72 completed: Time: 15.155956268310547, loss 1.3768599033355713--0.9912127256393433\n",
            "Epoch 73 completed: Time: 15.186392068862915, loss 1.357771396636963--1.025374412536621\n",
            "Epoch 74 completed: Time: 15.196002721786499, loss 1.3816548585891724--0.9340065717697144\n",
            "Epoch 75 completed: Time: 15.193314552307129, loss 1.4481734037399292--1.0298548936843872\n",
            "Epoch 76 completed: Time: 15.141301393508911, loss 1.5450761318206787--0.8940790891647339\n",
            "Epoch 77 completed: Time: 15.154861211776733, loss 1.3726966381072998--1.0250976085662842\n",
            "Epoch 78 completed: Time: 15.105181694030762, loss 1.2545337677001953--1.1332149505615234\n",
            "Epoch 79 completed: Time: 15.142426013946533, loss 1.1740882396697998--1.1449012756347656\n",
            "Epoch 80 completed: Time: 15.192251205444336, loss 1.266605257987976--1.1226024627685547\n",
            "Epoch 81 completed: Time: 15.216028451919556, loss 1.5323922634124756--0.9483269453048706\n",
            "Epoch 82 completed: Time: 15.194819211959839, loss 1.2769544124603271--1.1204304695129395\n",
            "Epoch 83 completed: Time: 15.198379039764404, loss 1.448777198791504--1.1658892631530762\n",
            "Epoch 84 completed: Time: 15.178748846054077, loss 1.2356435060501099--1.031861424446106\n",
            "Epoch 85 completed: Time: 15.196982622146606, loss 1.2247304916381836--1.0474767684936523\n",
            "Epoch 86 completed: Time: 15.189690113067627, loss 1.0355231761932373--1.1485990285873413\n",
            "Epoch 87 completed: Time: 15.199963569641113, loss 1.289305329322815--1.0826318264007568\n",
            "Epoch 88 completed: Time: 15.224600791931152, loss 1.2433178424835205--1.025852084159851\n",
            "Epoch 89 completed: Time: 15.18903112411499, loss 1.4295012950897217--1.0362217426300049\n",
            "Epoch 90 completed: Time: 15.165143251419067, loss 1.4574569463729858--1.0213464498519897\n",
            "Epoch 91 completed: Time: 15.184362411499023, loss 1.2940483093261719--0.9078407287597656\n",
            "Epoch 92 completed: Time: 15.15723466873169, loss 1.0958644151687622--1.0749850273132324\n",
            "Epoch 93 completed: Time: 15.161381483078003, loss 1.436989188194275--1.0052838325500488\n",
            "Epoch 94 completed: Time: 15.203744411468506, loss 1.2741988897323608--1.0050673484802246\n",
            "Epoch 95 completed: Time: 15.221924543380737, loss 1.2265608310699463--1.08303964138031\n",
            "Epoch 96 completed: Time: 15.142009735107422, loss 1.2158139944076538--1.0169703960418701\n",
            "Epoch 97 completed: Time: 15.203620910644531, loss 1.1527637243270874--1.029470443725586\n",
            "Epoch 98 completed: Time: 15.170762538909912, loss 1.4559201002120972--0.9519058465957642\n",
            "Epoch 99 completed: Time: 15.174193859100342, loss 1.226923942565918--1.0677844285964966\n",
            "Epoch 100 completed: Time: 15.123825788497925, loss 1.3455754518508911--0.9341673851013184\n"
          ],
          "name": "stdout"
        }
      ]
    },
    {
      "cell_type": "code",
      "metadata": {
        "id": "XNLoEx6OsaSc",
        "colab_type": "code",
        "colab": {
          "base_uri": "https://localhost:8080/",
          "height": 282
        },
        "outputId": "e38bd8db-0488-471c-e168-bf8e3cc77d67"
      },
      "source": [
        "plt.imshow(generator(tf.random.normal([1, 100]), training=False)[0, :, :, 0], cmap='gray')"
      ],
      "execution_count": 171,
      "outputs": [
        {
          "output_type": "execute_result",
          "data": {
            "text/plain": [
              "<matplotlib.image.AxesImage at 0x7f651e5f2898>"
            ]
          },
          "metadata": {
            "tags": []
          },
          "execution_count": 171
        },
        {
          "output_type": "display_data",
          "data": {
            "image/png": "[encoded data removed]",
            "text/plain": [
              "<Figure size 432x288 with 1 Axes>"
            ]
          },
          "metadata": {
            "tags": []
          }
        }
      ]
    },
    {
      "cell_type": "code",
      "metadata": {
        "id": "4gza4z7luJqk",
        "colab_type": "code",
        "colab": {}
      },
      "source": [
        ""
      ],
      "execution_count": 0,
      "outputs": []
    }
  ]
}